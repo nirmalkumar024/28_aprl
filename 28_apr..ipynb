{
 "cells": [
  {
   "cell_type": "markdown",
   "id": "ca1488d6-e215-40d4-a66d-f7b03a2983e5",
   "metadata": {},
   "source": [
    "Q1. What is hierarchical clustering, and how is it different from other clustering techniques?"
   ]
  },
  {
   "cell_type": "markdown",
   "id": "cd41897d-a3cc-49e3-a51e-8259dfabe230",
   "metadata": {},
   "source": [
    "Hierarchical clustering is separating data into groups based on some measure of similarity, finding a way to measure how they're alike and different, and further narrowing down the data"
   ]
  },
  {
   "cell_type": "markdown",
   "id": "f6a7d913-fb3d-437c-aa43-1bdf52134703",
   "metadata": {},
   "source": [
    "Q2. What are the two main types of hierarchical clustering algorithms? Describe each in brief."
   ]
  },
  {
   "cell_type": "markdown",
   "id": "076eb690-aca8-4e80-81bd-3ed23d320dfd",
   "metadata": {},
   "source": [
    "There are two types of hierarchical clustering: agglomerative and divisive clustering. In agglomerative clustering, the data points are considered as separate clusters and merges them based on similarity until a single cluster is formed."
   ]
  },
  {
   "cell_type": "markdown",
   "id": "24b0060d-7fa9-41de-ba95-503e064d537e",
   "metadata": {},
   "source": [
    "Q3. How do you determine the distance between two clusters in hierarchical clustering, and what are the\n",
    "common distance metrics used?"
   ]
  },
  {
   "cell_type": "markdown",
   "id": "f4976853-a18e-4d23-9c73-1ecb8cfb4f5e",
   "metadata": {},
   "source": [
    "The distance between two clusters is given by the value of the longest link between the clusters. At each stage of hierarchical clustering, the clusters r and s , for which D(r,s) is maximum, are merged."
   ]
  },
  {
   "cell_type": "markdown",
   "id": "ad37e534-729d-4dc0-90f2-1ab9f5588a36",
   "metadata": {},
   "source": [
    "Q4. How do you determine the optimal number of clusters in hierarchical clustering, and what are some\n",
    "common methods used for this purpose?"
   ]
  },
  {
   "cell_type": "markdown",
   "id": "d648f14c-0d3b-4b35-b03d-5e967f11be79",
   "metadata": {},
   "source": [
    "It is the most popular method for determining the optimal number of clusters. The method is based on calculating the Within-Cluster-Sum of Squared Errors (WSS) for different number of clusters (k) and selecting the k for which change in WSS first starts to diminish."
   ]
  },
  {
   "cell_type": "markdown",
   "id": "38a0a40b-57a1-4ab5-8c41-d9602ade605b",
   "metadata": {},
   "source": [
    "Q5. What are dendrograms in hierarchical clustering, and how are they useful in analyzing the results?"
   ]
  },
  {
   "cell_type": "markdown",
   "id": "c1e65cfd-fd3f-40dc-b0cd-3979b1b12f7d",
   "metadata": {},
   "source": [
    "In hierarchical clustering, you categorize the objects into a hierarchy similar to a tree-like diagram which is called a dendrogram. The distance of split or merge (called height) is shown on the y-axis of the dendrogram below."
   ]
  },
  {
   "cell_type": "code",
   "execution_count": null,
   "id": "8445e33d-53f6-43d8-a599-0111b44aaf75",
   "metadata": {},
   "outputs": [],
   "source": []
  }
 ],
 "metadata": {
  "kernelspec": {
   "display_name": "Python 3 (ipykernel)",
   "language": "python",
   "name": "python3"
  },
  "language_info": {
   "codemirror_mode": {
    "name": "ipython",
    "version": 3
   },
   "file_extension": ".py",
   "mimetype": "text/x-python",
   "name": "python",
   "nbconvert_exporter": "python",
   "pygments_lexer": "ipython3",
   "version": "3.10.8"
  }
 },
 "nbformat": 4,
 "nbformat_minor": 5
}
